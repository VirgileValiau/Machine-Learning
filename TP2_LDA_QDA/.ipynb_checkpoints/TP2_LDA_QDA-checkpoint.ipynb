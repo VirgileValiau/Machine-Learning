{
 "cells": [
  {
   "cell_type": "markdown",
   "metadata": {},
   "source": [
    "## TP2 : Classification using Linear & Quadratic Discriminant Analysis\n",
    "\n",
    "First think of configuring your notebook :"
   ]
  },
  {
   "cell_type": "code",
   "execution_count": 1,
   "metadata": {},
   "outputs": [],
   "source": [
    "import csv\n",
    "# import os\n",
    "from pylab import *\n",
    "import numpy as np\n",
    "from numpy import linalg as la\n"
   ]
  },
  {
   "cell_type": "markdown",
   "metadata": {},
   "source": [
    "## Reading synthetic data\n",
    "Load the training and test data sets |synth_train.txt| and\n",
    "|synth_test.txt| already used for Knn. Targets belong to {1,2} and entries belong to R^2.\n",
    "We have 100 training data samples and 200 test samples.\n",
    "\n",
    "* the 1st column contains the label of the class the sample, \n",
    "* columns 2 & 3 contain the coordinates of each sample in 2D."
   ]
  },
  {
   "cell_type": "code",
   "execution_count": 2,
   "metadata": {},
   "outputs": [
    {
     "name": "stdout",
     "output_type": "stream",
     "text": [
      "[[ 2.00000000e+00  5.48377329e-01  1.22134530e+00]\n",
      " [ 2.00000000e+00 -5.16182355e-01  1.56239592e+00]\n",
      " [ 2.00000000e+00 -9.28778331e-01  9.21072165e-01]\n",
      " [ 2.00000000e+00  7.00040452e-02  6.19767466e-01]\n",
      " [ 2.00000000e+00  2.67028434e-01  1.10944064e+00]\n",
      " [ 2.00000000e+00 -5.76640735e-01  1.02574324e+00]\n",
      " [ 2.00000000e+00 -5.71998215e-01  9.74854418e-01]\n",
      " [ 2.00000000e+00  8.59104287e-02  1.44378449e+00]\n",
      " [ 2.00000000e+00  5.83964255e-01  6.73844517e-01]\n",
      " [ 1.00000000e+00 -1.06711928e+00  2.74219239e+00]\n",
      " [ 2.00000000e+00 -5.62649176e-02  7.33069929e-01]\n",
      " [ 1.00000000e+00 -5.24936248e-01  2.29796093e+00]\n",
      " [ 1.00000000e+00 -1.23658249e+00  8.23154360e-01]\n",
      " [ 2.00000000e+00 -7.78122419e-02  1.72951379e+00]\n",
      " [ 1.00000000e+00 -3.13748144e-01  2.49300606e+00]\n",
      " [ 2.00000000e+00  3.20501891e-01  1.53374221e+00]\n",
      " [ 1.00000000e+00 -6.73953041e-02  1.87508168e+00]\n",
      " [ 1.00000000e+00 -1.47557179e+00  2.13126285e+00]\n",
      " [ 1.00000000e+00 -7.63320669e-01  2.37500358e+00]\n",
      " [ 2.00000000e+00  2.48011556e-01  4.75487463e-01]\n",
      " [ 2.00000000e+00  5.07678126e-02  1.32648867e+00]\n",
      " [ 1.00000000e+00 -9.63208133e-01  2.51852029e+00]\n",
      " [ 2.00000000e+00 -3.77217561e-02  1.71075479e-01]\n",
      " [ 1.00000000e+00 -8.45406922e-01  2.54204915e+00]\n",
      " [ 2.00000000e+00 -2.73976476e-01  2.00372611e+00]\n",
      " [ 2.00000000e+00  3.87069805e-01  8.14094889e-01]\n",
      " [ 1.00000000e+00 -5.15453361e-01  2.87772460e+00]\n",
      " [ 2.00000000e+00 -2.36570846e-01  2.71951144e-01]\n",
      " [ 2.00000000e+00  1.18125542e-01  4.95924902e-01]\n",
      " [ 1.00000000e+00 -1.57193990e+00  2.31359927e+00]\n",
      " [ 2.00000000e+00  1.08560056e-01  1.10754480e+00]\n",
      " [ 1.00000000e+00 -2.97763681e-01  2.61729224e+00]\n",
      " [ 2.00000000e+00 -8.26061224e-02  9.54502725e-01]\n",
      " [ 1.00000000e+00 -4.75767227e-01  3.10209136e+00]\n",
      " [ 2.00000000e+00  2.25359536e-01  6.32175514e-01]\n",
      " [ 2.00000000e+00 -4.50367582e-01  7.25781342e-01]\n",
      " [ 1.00000000e+00 -1.58918211e+00  1.86042125e+00]\n",
      " [ 1.00000000e+00 -5.28189115e-01  2.73299471e+00]\n",
      " [ 2.00000000e+00 -9.13710710e-03  1.27680423e+00]\n",
      " [ 2.00000000e+00  2.36993293e-02  9.20445135e-01]\n",
      " [ 2.00000000e+00 -1.12197108e+00  7.95807109e-01]\n",
      " [ 2.00000000e+00 -2.10840677e-01  7.49413481e-01]\n",
      " [ 1.00000000e+00 -4.39299421e-01  1.14285780e+00]\n",
      " [ 2.00000000e+00  2.53558970e-01  9.99354716e-01]\n",
      " [ 2.00000000e+00  5.65460587e-02  1.30449333e+00]\n",
      " [ 1.00000000e+00 -8.45790722e-01  1.20634141e+00]\n",
      " [ 2.00000000e+00 -1.38891086e-01  1.29306999e+00]\n",
      " [ 1.00000000e+00 -7.67614021e-01  2.73570474e+00]\n",
      " [ 1.00000000e+00 -2.32044285e+00  1.71197395e-01]\n",
      " [ 2.00000000e+00  1.81205251e-01  6.85852110e-01]\n",
      " [ 2.00000000e+00  6.16237373e-02  2.90351896e-01]\n",
      " [ 1.00000000e+00 -1.97950817e+00  1.95246043e+00]\n",
      " [ 1.00000000e+00 -1.82865193e+00  1.17634595e+00]\n",
      " [ 1.00000000e+00 -3.96859461e-01  2.63190361e+00]\n",
      " [ 2.00000000e+00  1.85940765e-01  1.01921893e+00]\n",
      " [ 2.00000000e+00  2.42214625e-01  6.32780279e-01]\n",
      " [ 1.00000000e+00 -1.75949748e+00  2.03619486e+00]\n",
      " [ 2.00000000e+00 -7.86570617e-01  9.33769474e-01]\n",
      " [ 2.00000000e+00 -2.72972303e-01  1.34032052e+00]\n",
      " [ 2.00000000e+00 -6.83492982e-02  7.50718278e-01]\n",
      " [ 2.00000000e+00  3.79817362e-01  1.20988055e+00]\n",
      " [ 2.00000000e+00  4.11877216e-01  5.94430318e-01]\n",
      " [ 2.00000000e+00  6.24493102e-01  9.15164136e-01]\n",
      " [ 1.00000000e+00  3.74218224e-01  2.68485102e+00]\n",
      " [ 2.00000000e+00 -3.59385981e-01  1.12862285e+00]\n",
      " [ 2.00000000e+00  2.04001381e-03  1.14583204e+00]\n",
      " [ 2.00000000e+00 -6.27939690e-01  1.09193082e+00]\n",
      " [ 1.00000000e+00 -9.79911850e-01  3.10411732e+00]\n",
      " [ 2.00000000e+00 -3.09670876e-03  8.48733737e-01]\n",
      " [ 2.00000000e+00  4.72659868e-01  1.00659220e+00]\n",
      " [ 2.00000000e+00 -3.64861431e-01  1.06574959e-01]\n",
      " [ 1.00000000e+00 -1.14092922e+00  1.70457752e+00]\n",
      " [ 2.00000000e+00  5.98031033e-01  2.77160948e-01]\n",
      " [ 2.00000000e+00 -4.33484839e-01  7.87972492e-01]\n",
      " [ 1.00000000e+00 -6.61738018e-01  1.61404578e+00]\n",
      " [ 1.00000000e+00 -9.28490570e-01  2.65609878e+00]\n",
      " [ 1.00000000e+00  2.72617399e-01  2.26668690e+00]\n",
      " [ 2.00000000e+00  4.69379752e-01  1.59170535e+00]\n",
      " [ 1.00000000e+00 -9.82806734e-01  1.91846739e+00]\n",
      " [ 1.00000000e+00 -8.07872183e-01  2.31815604e+00]\n",
      " [ 1.00000000e+00 -9.06407397e-01  3.56856181e+00]\n",
      " [ 2.00000000e+00  3.17657130e-01  7.93146108e-01]\n",
      " [ 1.00000000e+00 -1.24450838e+00  2.17265708e+00]\n",
      " [ 2.00000000e+00 -8.28662994e-01  1.02379893e+00]\n",
      " [ 2.00000000e+00  1.25223148e-01  1.03783690e+00]\n",
      " [ 2.00000000e+00  4.02829031e-01  4.07156532e-01]\n",
      " [ 1.00000000e+00 -6.44725983e-01  2.38648557e+00]\n",
      " [ 1.00000000e+00 -1.25024565e-01  2.54365962e+00]\n",
      " [ 2.00000000e+00  1.22509415e-01  1.33727320e+00]\n",
      " [ 2.00000000e+00 -1.17159123e-01  2.26014806e-01]\n",
      " [ 2.00000000e+00 -4.14896196e-01  1.55619073e+00]\n",
      " [ 2.00000000e+00  6.67010909e-01  6.39555638e-01]\n",
      " [ 1.00000000e+00 -3.23341542e-01  1.63493666e+00]\n",
      " [ 2.00000000e+00  1.95800676e-01  9.35928805e-01]\n",
      " [ 2.00000000e+00  9.20280893e-01  8.32502840e-01]\n",
      " [ 2.00000000e+00 -4.19813897e-01  6.36208571e-01]\n",
      " [ 2.00000000e+00  7.64522988e-01  8.25398950e-01]\n",
      " [ 2.00000000e+00 -2.00450392e-01  1.31947882e+00]\n",
      " [ 1.00000000e+00 -5.56557714e-01  1.51297128e+00]\n",
      " [ 2.00000000e+00 -8.17012805e-01  1.23967181e+00]\n",
      " [ 2.00000000e+00 -3.07481598e-01  1.14202420e+00]\n",
      " [ 2.00000000e+00  5.18372392e-01  1.05741689e+00]\n",
      " [ 2.00000000e+00 -5.22216420e-02  7.10072808e-01]\n",
      " [ 2.00000000e+00 -8.91407689e-02  1.39429475e+00]\n",
      " [ 2.00000000e+00 -3.76213459e-01  9.30751730e-01]\n",
      " [ 2.00000000e+00 -1.85552176e-01  7.05457630e-01]\n",
      " [ 2.00000000e+00  4.52703118e-02  8.37793024e-01]\n",
      " [ 1.00000000e+00 -2.04640660e+00  1.45891620e+00]\n",
      " [ 2.00000000e+00  1.42624578e-01  3.48612563e-01]\n",
      " [ 2.00000000e+00  2.17884225e-01  2.99383442e-01]\n",
      " [ 2.00000000e+00 -2.62772779e-01  1.13515762e+00]\n",
      " [ 2.00000000e+00 -3.92743472e-01 -2.79656875e-01]\n",
      " [ 2.00000000e+00 -1.52963735e-01  7.32629392e-01]\n",
      " [ 2.00000000e+00 -3.08434595e-01  1.30016576e+00]\n",
      " [ 2.00000000e+00 -4.43331283e-01  1.37424173e+00]\n",
      " [ 2.00000000e+00  5.59985594e-01  6.00807013e-01]\n",
      " [ 1.00000000e+00 -7.78445112e-01  2.51026387e+00]\n",
      " [ 2.00000000e+00  2.91103772e-03  8.94505802e-01]\n",
      " [ 2.00000000e+00  8.78565648e-01  1.39559807e+00]\n",
      " [ 2.00000000e+00 -2.56930499e-01  1.22349528e+00]\n",
      " [ 2.00000000e+00  1.06636130e-01  1.34804317e+00]\n",
      " [ 2.00000000e+00  2.63023271e-01  1.61623094e+00]\n",
      " [ 2.00000000e+00 -8.48661484e-01  2.04548253e-01]\n",
      " [ 1.00000000e+00 -2.41274779e+00  9.50345029e-01]\n",
      " [ 2.00000000e+00  1.11993914e-01  1.12797549e+00]\n",
      " [ 1.00000000e+00 -1.57510019e+00  2.10375615e+00]\n",
      " [ 2.00000000e+00 -6.13221147e-01  1.00460963e+00]\n",
      " [ 2.00000000e+00 -1.83816195e-01  1.29675358e+00]\n",
      " [ 2.00000000e+00 -9.51863339e-02  9.80307141e-01]\n",
      " [ 2.00000000e+00 -1.97407853e-01  5.28213483e-01]\n",
      " [ 2.00000000e+00  5.77566803e-02  1.22782327e+00]\n",
      " [ 2.00000000e+00 -2.04539824e-01  1.26668940e+00]\n",
      " [ 2.00000000e+00  3.60912290e-01  9.59838994e-01]\n",
      " [ 2.00000000e+00 -4.10813412e-02  5.88009716e-01]\n",
      " [ 1.00000000e+00 -1.67968566e+00  2.60184083e+00]\n",
      " [ 1.00000000e+00 -3.35028542e-01  2.59649553e+00]\n",
      " [ 2.00000000e+00  4.14599190e-01  4.51285088e-01]\n",
      " [ 2.00000000e+00  3.98756393e-01  1.12888051e+00]\n",
      " [ 2.00000000e+00 -2.14172069e-02  3.05985290e-01]\n",
      " [ 2.00000000e+00 -4.07777798e-01  1.02210785e+00]\n",
      " [ 2.00000000e+00  1.37821731e-01  1.13400243e+00]\n",
      " [ 2.00000000e+00 -6.54821027e-02  9.53905306e-01]\n",
      " [ 1.00000000e+00 -7.21912456e-01  2.72702091e+00]\n",
      " [ 1.00000000e+00 -2.07619415e+00  1.70558056e+00]\n",
      " [ 1.00000000e+00 -2.18751664e+00  1.73380235e+00]\n",
      " [ 1.00000000e+00 -1.19720639e-01  1.79715247e+00]\n",
      " [ 2.00000000e+00  1.08089384e-01  1.24567641e+00]\n",
      " [ 2.00000000e+00  8.56221747e-02  8.97228099e-01]\n",
      " [ 1.00000000e+00 -6.60248501e-01  1.98502531e+00]\n",
      " [ 2.00000000e+00  4.86436846e-01 -5.93180578e-03]\n",
      " [ 2.00000000e+00 -2.82665995e-01  1.58873801e+00]\n",
      " [ 2.00000000e+00 -6.56915674e-01  1.07912924e+00]\n",
      " [ 2.00000000e+00 -9.59839891e-02  1.21747217e+00]\n",
      " [ 2.00000000e+00  5.67023048e-01  1.48769278e+00]\n",
      " [ 1.00000000e+00 -1.31006572e+00  2.00811550e+00]\n",
      " [ 2.00000000e+00  1.13367514e+00  1.19616820e+00]\n",
      " [ 2.00000000e+00 -3.74620094e-01  4.15267054e-01]\n",
      " [ 2.00000000e+00 -8.82190485e-02  1.29030996e+00]\n",
      " [ 1.00000000e+00 -3.66464809e-01  1.35425828e+00]\n",
      " [ 2.00000000e+00  3.78566606e-01  1.04926274e+00]\n",
      " [ 1.00000000e+00 -1.28110019e+00  1.97519047e+00]\n",
      " [ 2.00000000e+00 -4.62213861e-01  1.57920724e+00]\n",
      " [ 2.00000000e+00 -2.21525980e-01  1.20963832e+00]\n",
      " [ 2.00000000e+00 -7.67846622e-01  1.65763614e+00]\n",
      " [ 2.00000000e+00 -2.28390636e-01  1.05070838e+00]\n",
      " [ 2.00000000e+00 -6.53706799e-01 -2.89019909e-01]\n",
      " [ 2.00000000e+00 -2.06821060e-01  7.42116116e-01]\n",
      " [ 1.00000000e+00 -2.28497956e+00  9.33876863e-01]\n",
      " [ 2.00000000e+00 -4.74856259e-01  1.20146692e+00]\n",
      " [ 2.00000000e+00 -4.53717650e-02  3.60884391e-01]\n",
      " [ 1.00000000e+00 -7.09988962e-01  1.72715318e+00]\n",
      " [ 2.00000000e+00  8.84545558e-01  1.35565396e+00]\n",
      " [ 2.00000000e+00  1.05557165e+00  1.52565267e+00]\n",
      " [ 2.00000000e+00  8.72624954e-01  5.95425375e-01]\n",
      " [ 1.00000000e+00  4.27147660e-01  3.11330391e+00]\n",
      " [ 2.00000000e+00  2.04898647e-01  8.81871151e-01]\n",
      " [ 2.00000000e+00 -1.72981389e-01  7.52246829e-01]\n",
      " [ 1.00000000e+00 -1.04231906e+00  1.64951777e+00]\n",
      " [ 2.00000000e+00  1.05330756e-01  1.45677348e+00]\n",
      " [ 2.00000000e+00 -3.64707620e-02  1.56270505e+00]\n",
      " [ 2.00000000e+00  1.47315987e-02  1.75689924e+00]\n",
      " [ 2.00000000e+00  1.64811724e-01  1.98029253e+00]\n",
      " [ 2.00000000e+00  4.05739103e-01  1.17989595e+00]\n",
      " [ 2.00000000e+00 -5.15259328e-02  1.81482320e+00]\n",
      " [ 1.00000000e+00 -1.45041108e+00  1.62295012e+00]\n",
      " [ 2.00000000e+00 -7.97775408e-01  1.23660620e+00]\n",
      " [ 2.00000000e+00 -4.20441119e-01  8.84043351e-01]\n",
      " [ 1.00000000e+00  1.48730086e-01  2.90052858e+00]\n",
      " [ 1.00000000e+00 -1.65439614e+00  1.66317302e+00]\n",
      " [ 2.00000000e+00  1.23099746e-01  1.15799581e+00]\n",
      " [ 1.00000000e+00 -8.82529287e-01  2.50954583e+00]\n",
      " [ 1.00000000e+00 -2.02186254e-01  3.87335149e+00]\n",
      " [ 1.00000000e+00 -2.46134069e+00  1.08212758e+00]\n",
      " [ 2.00000000e+00 -3.65213174e-02  9.29128590e-01]\n",
      " [ 2.00000000e+00 -4.76107083e-01  2.64818829e-01]\n",
      " [ 2.00000000e+00  1.30861022e-01  4.68885298e-01]\n",
      " [ 2.00000000e+00 -5.80202219e-01  9.45542698e-01]\n",
      " [ 2.00000000e+00 -3.75980352e-01  8.43711905e-01]\n",
      " [ 2.00000000e+00  8.73127955e-01  1.20528156e+00]\n",
      " [ 1.00000000e+00 -1.15937101e+00  1.74582542e+00]]\n"
     ]
    }
   ],
   "source": [
    "train = np.loadtxt('synth_train.txt')\n",
    "test = np.loadtxt('synth_test.txt')\n",
    "\n",
    "#print(train)\n",
    "print(test)"
   ]
  },
  {
   "cell_type": "markdown",
   "metadata": {},
   "source": [
    "## Recall about the main steps of discriminant analysis:\n",
    "* estimation of weights `pi_1` and `pi_2` for each class,\n",
    "* estimation of empirical means `mu_1` and `mu_2` for each class, \n",
    "* estimation of empirical covariance matrices  `sigma_1` and `sigma_2`,\n",
    "* computation of the common averaged covariance `sigma` (average of intra-class covariances),\n",
    "* computation of log-probabilities of belonging to each class,\n",
    "* decision of classification,\n",
    "* display results.\n"
   ]
  },
  {
   "cell_type": "markdown",
   "metadata": {},
   "source": [
    "## TO DO : linear & quadratic discriminant analysis (LDA & QDA)\n",
    "1. Implement a classifier using LDA of the data set. \n",
    "2. Then implement QDA classification.\n",
    "3. In each case (LDA & QDA) show the decision boundary and\n",
    "compute the error rate respectively for the training set and the test set. \n",
    "4. Compare and comment on your results with LDA and QDA.\n",
    "5. You may also compare your results to K nearest neighbours.\n",
    "\n",
    "_Indication 1 : matrices `sigma` are of size 2x2.\n",
    "More generally, be careful of the sizes of vectors and matrices you\n",
    "manipulate._\n",
    "\n",
    "_Indication 2 : to display the regions of decision, you may use:_\n"
   ]
  },
  {
   "cell_type": "code",
   "execution_count": 3,
   "metadata": {},
   "outputs": [],
   "source": [
    "Nx1=100 # number of samples for display\n",
    "Nx2=100\n",
    "x1=np.linspace(-2.5,1.5,Nx1)  # sampling of the x1 axis \n",
    "x2=np.linspace(-0.5,3.5,Nx2)  # sampling of the x2 axis\n",
    "[X1,X2]=np.meshgrid(x1,x2) \n",
    "x=np.hstack((X1.flatten('F'),X2.flatten('F'))) # list of the coordinates of points on the grid\n",
    "#N = size(x,axis=0)\n",
    "# Then compute the sampled prediction class_L for each couple (X1,X2)\n",
    "\n"
   ]
  },
  {
   "cell_type": "code",
   "execution_count": 4,
   "metadata": {
    "scrolled": true
   },
   "outputs": [],
   "source": [
    "train_1=[]\n",
    "train_2=[]\n",
    "for t in train:\n",
    "    if t[0] == 1:\n",
    "        train_1.append(t)\n",
    "    else:\n",
    "        train_2.append(t)\n",
    "        \n",
    "train_1 = np.array(train_1)[:,1:]\n",
    "train_2 = np.array(train_2)[:,1:]\n",
    "\n",
    "train_1x = np.array(train_1[:,0])\n",
    "train_1y = np.array(train_1[:,1])\n",
    "train_2x = np.array(train_2[:,0])\n",
    "train_2y = np.array(train_2[:,1])\n",
    "\n",
    "pi_1 = len(train_1)/len(train)\n",
    "pi_2 = len(train_2)/len(train)\n",
    "\n",
    "mu_1 = np.array(([np.mean(train_1x),np.mean(train_1y)]))\n",
    "mu_2 = np.array(([np.mean(train_2x),np.mean(train_2y)]))\n",
    "\n",
    "sigma1=np.zeros((2,2))\n",
    "sigma2=np.zeros((2,2))\n",
    "for t1 in train_1:\n",
    "    sigma1 += np.outer(t1-mu_1,t1-mu_1)\n",
    "for t2 in train_2:\n",
    "    sigma2 += np.outer(t2-mu_2,t2-mu_2)\n",
    "sigma1 = sigma1/len(train_1)\n",
    "sigma2 = sigma2/len(train_2)"
   ]
  },
  {
   "cell_type": "markdown",
   "metadata": {},
   "source": [
    "### LDA"
   ]
  },
  {
   "cell_type": "code",
   "execution_count": 5,
   "metadata": {},
   "outputs": [
    {
     "name": "stdout",
     "output_type": "stream",
     "text": [
      "[[0.3030754  0.08284337]\n",
      " [0.08284337 0.27017769]]\n"
     ]
    }
   ],
   "source": [
    "sigma = (len(train_1)*sigma1+len(train_2)*sigma2)/len(train)\n",
    "print(sigma)"
   ]
  },
  {
   "cell_type": "code",
   "execution_count": 6,
   "metadata": {},
   "outputs": [],
   "source": [
    "inv_sigma = np.linalg.inv(sigma)\n",
    "\n",
    "class_L = np.zeros((Nx1,Nx2))\n",
    "for i in range(Nx1):\n",
    "    for j in range(Nx2):\n",
    "        Y1 = (np.array([X1[i][j],X2[i][j]]))@inv_sigma@mu_1 - 0.5*mu_1@inv_sigma@(mu_1.T) + np.log(pi_1)\n",
    "        Y2 = (np.array([X1[i][j],X2[i][j]]))@inv_sigma@mu_2 - 0.5*mu_2@inv_sigma@(mu_2.T) + np.log(pi_2)\n",
    "        if Y1>=Y2:\n",
    "            class_L[i][j] = 1\n",
    "        else: \n",
    "            class_L[i][j] = 2"
   ]
  },
  {
   "cell_type": "code",
   "execution_count": 7,
   "metadata": {},
   "outputs": [
    {
     "name": "stdout",
     "output_type": "stream",
     "text": [
      "[[1. 1. 2. ... 2. 2. 2.]\n",
      " [1. 1. 1. ... 2. 2. 2.]\n",
      " [1. 1. 1. ... 2. 2. 2.]\n",
      " ...\n",
      " [1. 1. 1. ... 2. 2. 2.]\n",
      " [1. 1. 1. ... 2. 2. 2.]\n",
      " [1. 1. 1. ... 2. 2. 2.]]\n"
     ]
    },
    {
     "data": {
      "image/png": "[encoded data removed]",
      "text/plain": [
       "<Figure size 432x288 with 1 Axes>"
      ]
     },
     "metadata": {
      "needs_background": "light"
     },
     "output_type": "display_data"
    }
   ],
   "source": [
    "print(class_L)\n",
    "# For graphical representation  use code below for instance :\n",
    "plt.imshow(class_L, extent = (np.min(x1),np.max(x1),np.min(x2),np.max(x2)), origin = 'lower')\n",
    "plt.plot(train_1[:,0],train_1[:,1],'r*')\n",
    "plt.plot(train_2[:,0],train_2[:,1],'b*')\n",
    "plt.show()"
   ]
  },
  {
   "cell_type": "markdown",
   "metadata": {},
   "source": [
    "#### Essai avec les valeurs de test"
   ]
  },
  {
   "cell_type": "code",
   "execution_count": 29,
   "metadata": {},
   "outputs": [
    {
     "data": {
      "image/png": "[encoded data removed]",
      "text/plain": [
       "<Figure size 432x288 with 1 Axes>"
      ]
     },
     "metadata": {
      "needs_background": "light"
     },
     "output_type": "display_data"
    },
    {
     "data": {
      "image/png": "[encoded data removed]",
      "text/plain": [
       "<Figure size 432x288 with 1 Axes>"
      ]
     },
     "metadata": {
      "needs_background": "light"
     },
     "output_type": "display_data"
    },
    {
     "data": {
      "image/png": "[encoded data removed]",
      "text/plain": [
       "<Figure size 432x288 with 1 Axes>"
      ]
     },
     "metadata": {
      "needs_background": "light"
     },
     "output_type": "display_data"
    },
    {
     "name": "stdout",
     "output_type": "stream",
     "text": [
      "Erreur rate = 0.055\n"
     ]
    }
   ],
   "source": [
    "Err=[]\n",
    "classe = []\n",
    "for te in test:\n",
    "    Y1 = (np.array([te[1],te[2]]))@inv_sigma@mu_1 - 0.5*mu_1@inv_sigma@(mu_1.T) + np.log(pi_1)\n",
    "    Y2 = (np.array([te[1],te[2]]))@inv_sigma@mu_2 - 0.5*mu_2@inv_sigma@(mu_2.T) + np.log(pi_2)\n",
    "    if Y1>=Y2:\n",
    "        Err.append(np.abs(1-te[0]))\n",
    "        classe.append(1)\n",
    "    else:\n",
    "        Err.append(np.abs(2-te[0]))\n",
    "        classe.append(2)\n",
    "        \n",
    "for i,te in enumerate(test):\n",
    "    if classe[i] == 1:\n",
    "        plt.plot(te[1],te[2],'r*')\n",
    "    else:\n",
    "        plt.plot(te[1],te[2],'b*')\n",
    "plt.title('Classe estimée')\n",
    "plt.show()\n",
    "\n",
    "\n",
    "for te in test:\n",
    "    if te[0] - 1 < 0.000001:\n",
    "        plt.plot(te[1],te[2],'r*')\n",
    "    else:\n",
    "        plt.plot(te[1],te[2],'b*')\n",
    "plt.title('Vraie Classe')\n",
    "plt.show()\n",
    "\n",
    "plt.hist(Err)\n",
    "plt.show()\n",
    "\n",
    "print('Erreur rate = ' + str(np.count_nonzero(Err)/len(test)))"
   ]
  },
  {
   "cell_type": "markdown",
   "metadata": {},
   "source": [
    "### QDA"
   ]
  },
  {
   "cell_type": "code",
   "execution_count": 9,
   "metadata": {},
   "outputs": [
    {
     "name": "stdout",
     "output_type": "stream",
     "text": [
      "0.22 0.78\n",
      "[[0.51664642 0.30792087]\n",
      " [0.30792087 0.48765965]]\n",
      "[[0.24283742 0.01935998]\n",
      " [0.01935998 0.20883663]]\n",
      "[-1.18350693  1.78655437] [0.02868973 1.04424548]\n"
     ]
    }
   ],
   "source": [
    "inv_sigma1 = np.linalg.inv(sigma1)\n",
    "inv_sigma2 = np.linalg.inv(sigma2)\n",
    "\n",
    "print(pi_1,pi_2)\n",
    "print(sigma1)\n",
    "print(sigma2)\n",
    "print(mu_1,mu_2)\n",
    "\n",
    "class_L = np.zeros((Nx1,Nx2))\n",
    "for i in range(Nx1):\n",
    "    for j in range(Nx2):\n",
    "        Y1 = -0.5*(np.array([X1[i][j],X2[i][j]])-mu_1).T@inv_sigma1@((np.array([X1[i][j],X2[i][j]])-mu_1)) -0.5*math.log(np.linalg.det(sigma1)) + math.log(pi_1)\n",
    "        Y2 = -0.5*(np.array([X1[i][j],X2[i][j]])-mu_2).T@inv_sigma2@((np.array([X1[i][j],X2[i][j]])-mu_2)) -0.5*math.log(np.linalg.det(sigma2)) + math.log(pi_2)\n",
    "        if Y1>Y2:\n",
    "            class_L[i][j] = 1\n",
    "        else: \n",
    "            class_L[i][j] = 2\n"
   ]
  },
  {
   "cell_type": "code",
   "execution_count": 10,
   "metadata": {},
   "outputs": [
    {
     "data": {
      "image/png": "[encoded data removed]",
      "text/plain": [
       "<Figure size 432x288 with 1 Axes>"
      ]
     },
     "metadata": {
      "needs_background": "light"
     },
     "output_type": "display_data"
    }
   ],
   "source": [
    "# For graphical representation  use code below for instance :\n",
    "plt.imshow(class_L, extent = (np.min(x1),np.max(x1),np.min(x2),np.max(x2)),origin='lower')\n",
    "plt.plot(train_1[:,0],train_1[:,1],'r*')\n",
    "plt.plot(train_2[:,0],train_2[:,1],'b*')\n",
    "plt.show()"
   ]
  },
  {
   "cell_type": "code",
   "execution_count": 27,
   "metadata": {},
   "outputs": [
    {
     "data": {
      "image/png": "[encoded data removed]",
      "text/plain": [
       "<Figure size 432x288 with 1 Axes>"
      ]
     },
     "metadata": {
      "needs_background": "light"
     },
     "output_type": "display_data"
    },
    {
     "data": {
      "image/png": "[encoded data removed]",
      "text/plain": [
       "<Figure size 432x288 with 1 Axes>"
      ]
     },
     "metadata": {
      "needs_background": "light"
     },
     "output_type": "display_data"
    },
    {
     "data": {
      "image/png": "[encoded data removed]",
      "text/plain": [
       "<Figure size 432x288 with 1 Axes>"
      ]
     },
     "metadata": {
      "needs_background": "light"
     },
     "output_type": "display_data"
    },
    {
     "name": "stdout",
     "output_type": "stream",
     "text": [
      "Erreur rate = 0.05\n"
     ]
    }
   ],
   "source": [
    "Err=[]\n",
    "classe = []\n",
    "for te in test:\n",
    "    Y1 = -0.5*(np.array(te[1:])-mu_1)@inv_sigma1@(np.array(te[1:])-mu_1) - 0.5*np.log(np.linalg.det(sigma1)) + np.log(pi_1)\n",
    "    Y2 = -0.5*(np.array(te[1:])-mu_2)@inv_sigma2@(np.array(te[1:])-mu_2) - 0.5*np.log(np.linalg.det(sigma2)) + np.log(pi_2)\n",
    "    if Y1>=Y2:\n",
    "        Err.append(np.abs(1-te[0]))\n",
    "        classe.append(1)\n",
    "    else:\n",
    "        Err.append(np.abs(2-te[0]))\n",
    "        classe.append(2)\n",
    "        \n",
    "for i,te in enumerate(test):\n",
    "    if classe[i] == 1:\n",
    "        plt.plot(te[1],te[2],'r*')\n",
    "    else:\n",
    "        plt.plot(te[1],te[2],'b*')\n",
    "plt.title('Classe estimée')\n",
    "plt.show()\n",
    "\n",
    "\n",
    "for te in test:\n",
    "    if te[0] - 1 < 0.000001:\n",
    "        plt.plot(te[1],te[2],'r*')\n",
    "    else:\n",
    "        plt.plot(te[1],te[2],'b*')\n",
    "plt.title('Vraie Classe')\n",
    "plt.show()\n",
    "\n",
    "plt.hist(Err)\n",
    "plt.show()\n",
    "\n",
    "print('Erreur rate = ' + str(np.count_nonzero(Err)/len(test)))"
   ]
  },
  {
   "cell_type": "markdown",
   "metadata": {},
   "source": [
    "## TO DO : LDA & QDA using scikit-learn module\n",
    "\n",
    "The module `scikit-learn` is dedicated to machine learning algorithms. Many of them are available in a simple manner. For LDA and QDA, have a look at the tutorial available at http://scikit-learn.org/stable/modules/lda_qda.html \n",
    "\n",
    "**Warning** : you may have a critical view of the way LDA and QDA are illustrated in the proposed example...\n",
    "\n",
    "\n"
   ]
  },
  {
   "cell_type": "code",
   "execution_count": null,
   "metadata": {},
   "outputs": [],
   "source": []
  },
  {
   "cell_type": "code",
   "execution_count": null,
   "metadata": {},
   "outputs": [],
   "source": []
  },
  {
   "cell_type": "code",
   "execution_count": null,
   "metadata": {},
   "outputs": [],
   "source": []
  }
 ],
 "metadata": {
  "kernelspec": {
   "display_name": "Python 3",
   "language": "python",
   "name": "python3"
  },
  "language_info": {
   "codemirror_mode": {
    "name": "ipython",
    "version": 3
   },
   "file_extension": ".py",
   "mimetype": "text/x-python",
   "name": "python",
   "nbconvert_exporter": "python",
   "pygments_lexer": "ipython3",
   "version": "3.8.5"
  }
 },
 "nbformat": 4,
 "nbformat_minor": 2
}
